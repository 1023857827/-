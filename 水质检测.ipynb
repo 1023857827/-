{
 "cells": [
  {
   "cell_type": "code",
   "execution_count": 24,
   "metadata": {},
   "outputs": [],
   "source": [
    "%matplotlib inline\n",
    "import os, re\n",
    "from PIL import Image\n",
    "import numpy as np\n",
    "from sklearn.tree import DecisionTreeClassifier\n",
    "from sklearn.model_selection import train_test_split\n",
    "from sklearn.metrics import classification_report, confusion_matrix\n",
    "import pandas as pd\n",
    "import matplotlib.pyplot as plt\n",
    "import mglearn\n",
    "\n",
    "path = 'C:/Users/WangHua/Pictures/water_images/'\n",
    "\n",
    "\n",
    "def var(rd):    # 求颜色通道的三阶颜色矩\n",
    "    mid = np.mean((rd-rd.mean())**3)\n",
    "    return np.sign(mid)*abs(mid)**(1/3)"
   ]
  },
  {
   "cell_type": "code",
   "execution_count": 8,
   "metadata": {},
   "outputs": [],
   "source": [
    "def get_img_names(path=path):     #将图片从文件夹中提取\n",
    "    file_names = os.listdir(path)\n",
    "    img_names = []\n",
    "    for i in file_names:\n",
    "        if re.findall('^\\d_\\d+\\.jpg$', i) != []:\n",
    "            img_names.append(i)\n",
    "    return img_names\n"
   ]
  },
  {
   "cell_type": "code",
   "execution_count": 9,
   "metadata": {},
   "outputs": [],
   "source": [
    "def get_img_data(path=path):\n",
    "    img_names = get_img_names(path=path)\n",
    "    n = len(img_names)\n",
    "    data = np.zeros([n, 9])\n",
    "    labels = np.zeros([n])\n",
    "    for i in range(n):\n",
    "        img = Image.open(path+img_names[i])  # 读取图片数据\n",
    "        M, N = img.size                      # 像素矩阵的行列数\n",
    "        region = img.crop((M/2-50, N/2-50, M/2+50, N/2+50))  # 截取图像的中心区域\n",
    "\n",
    "        r, g, b = region.split()   # 分割像素通道\n",
    "        rd = np.asarray(r)    # 将图片数据转换为数组\n",
    "        gd = np.asarray(g)\n",
    "        bd = np.asarray(b)\n",
    "\n",
    "        data[i, 0] = rd.mean()   # 一阶颜色矩\n",
    "        data[i, 1] = gd.mean()\n",
    "        data[i, 2] = bd.mean()\n",
    "\n",
    "        data[i, 3] = rd.std()    # 二阶颜色矩\n",
    "        data[i, 4] = gd.std()\n",
    "        data[i, 5] = bd.std()\n",
    "\n",
    "        data[i, 6] = var(rd)     # 三阶颜色矩\n",
    "        data[i, 7] = var(gd)\n",
    "        data[i, 8] = var(bd)\n",
    "\n",
    "        labels[i] = img_names[i][0]\n",
    "    return data, labels"
   ]
  },
  {
   "cell_type": "code",
   "execution_count": 12,
   "metadata": {},
   "outputs": [
    {
     "data": {
      "text/plain": [
       "0.775"
      ]
     },
     "execution_count": 12,
     "metadata": {},
     "output_type": "execute_result"
    }
   ],
   "source": [
    "data, labels = get_img_data()    # 数据预处理之后，得到特征数为9的数据"
   ]
  },
  {
   "cell_type": "code",
   "execution_count": 26,
   "metadata": {},
   "outputs": [
    {
     "data": {
      "text/plain": [
       "Text(0, 0.5, 'Second principal component')"
      ]
     },
     "execution_count": 26,
     "metadata": {},
     "output_type": "execute_result"
    },
    {
     "data": {
      "image/png": "[encoded data removed]",
      "text/plain": [
       "<Figure size 432x288 with 1 Axes>"
      ]
     },
     "metadata": {
      "needs_background": "light"
     },
     "output_type": "display_data"
    }
   ],
   "source": [
    "mglearn.discrete_scatter(data[:, 0], data[:, 1], labels)  #图像分析，确定data与label有一定的关系\n",
    " \n",
    "plt.gca().set_aspect(\"equal\")\n",
    "plt.xlabel(\"First principal component\")\n",
    "plt.ylabel(\"Second principal component\")  "
   ]
  },
  {
   "cell_type": "code",
   "execution_count": 27,
   "metadata": {},
   "outputs": [],
   "source": [
    "from sklearn.preprocessing import MinMaxScaler\n",
    "scaler = MinMaxScaler()\n",
    "data_scaled = scaler.fit(data).transform(data)  #将得出的data做MinMaxScaler处理"
   ]
  },
  {
   "cell_type": "code",
   "execution_count": 44,
   "metadata": {},
   "outputs": [
    {
     "name": "stdout",
     "output_type": "stream",
     "text": [
      "决策树模型精度为:  0.875\n"
     ]
    }
   ],
   "source": [
    "data_tr, data_te, labels_tr, labels_te = train_test_split(data_scaled, labels, test_size=0.2)  # 将数据拆分为训练集和测试集\n",
    "Dtc = DecisionTreeClassifier().fit(data_tr, labels_tr)  # 采用决策树模型训练\n",
    "pre = Dtc.predict(data_te)   # 模型预测\n",
    "\n",
    "print(\"决策树模型精度为: \", sum(pre==labels_te)/len(pre))            # 预测精度\n"
   ]
  },
  {
   "cell_type": "code",
   "execution_count": 41,
   "metadata": {},
   "outputs": [
    {
     "name": "stdout",
     "output_type": "stream",
     "text": [
      "训练集大小: 110  验证集大小: 37   测试集大小: 50\n",
      "\n",
      "验证集上的最佳精度: 0.95\n",
      "最好的参数:  {'C': 100, 'gamma': 1}\n",
      "最佳参数的精度: 0.90\n"
     ]
    }
   ],
   "source": [
    "from sklearn.svm import SVC  \n",
    "X_trainval, X_test, y_trainval, y_test = train_test_split(\n",
    "    data_scaled, labels, random_state=0)\n",
    "\n",
    "X_train, X_valid, y_train, y_valid = train_test_split(\n",
    "    X_trainval, y_trainval, random_state=1)\n",
    "print(\"训练集大小: {}  验证集大小: {}   测试集大小:\"\n",
    "      \" {}\\n\".format(X_train.shape[0], X_valid.shape[0], X_test.shape[0]))\n",
    "\n",
    "best_score = 0   \n",
    "\n",
    "for gamma in [0.001, 0.01, 0.1, 1, 10, 100]:\n",
    "    for C in [0.001, 0.01, 0.1, 1, 10, 100]:\n",
    "\n",
    "        svm = SVC(gamma=gamma, C=C)\n",
    "        svm.fit(X_train, y_train)\n",
    "\n",
    "        score = svm.score(X_valid, y_valid)\n",
    "        if score > best_score:\n",
    "            best_score = score\n",
    "            best_parameters = {'C': C, 'gamma': gamma}     #筛选最大值\n",
    "\n",
    "svm = SVC(**best_parameters)\n",
    "svm.fit(X_trainval, y_trainval)\n",
    "test_score = svm.score(X_test, y_test)\n",
    "print(\"验证集上的最佳精度: {:.2f}\".format(best_score))\n",
    "print(\"最好的参数: \", best_parameters)\n",
    "print(\"最佳参数的精度: {:.2f}\".format(test_score))"
   ]
  }
 ],
 "metadata": {
  "kernelspec": {
   "display_name": "Python 3",
   "language": "python",
   "name": "python3"
  },
  "language_info": {
   "codemirror_mode": {
    "name": "ipython",
    "version": 3
   },
   "file_extension": ".py",
   "mimetype": "text/x-python",
   "name": "python",
   "nbconvert_exporter": "python",
   "pygments_lexer": "ipython3",
   "version": "3.7.4"
  }
 },
 "nbformat": 4,
 "nbformat_minor": 2
}
